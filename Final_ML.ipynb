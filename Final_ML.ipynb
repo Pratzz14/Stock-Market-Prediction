{
  "nbformat": 4,
  "nbformat_minor": 0,
  "metadata": {
    "colab": {
      "provenance": []
    },
    "kernelspec": {
      "name": "python3",
      "display_name": "Python 3"
    },
    "language_info": {
      "name": "python"
    }
  },
  "cells": [
    {
      "cell_type": "code",
      "execution_count": null,
      "metadata": {
        "id": "NJzj5fbJYInz"
      },
      "outputs": [],
      "source": [
        "import pandas as pd\n",
        "import matplotlib.pyplot as plt\n",
        "from pylab import rcParams\n",
        "import numpy as np\n",
        "import seaborn as sns\n",
        "import os\n",
        "\n",
        "from sklearn.ensemble import RandomForestRegressor\n",
        "from sklearn.model_selection import cross_val_score, train_test_split, GridSearchCV\n",
        "from sklearn.feature_selection import RFECV, SelectFromModel, SelectKBest\n",
        "from sklearn.preprocessing import StandardScaler\n",
        "from sklearn import metrics\n",
        "%matplotlib inline"
      ]
    },
    {
      "cell_type": "code",
      "source": [
        "Stock = pd.read_csv('AAPL.csv',  index_col=0)\n",
        "\n",
        "df_Stock = Stock\n",
        "df_Stock = df_Stock.rename(columns={'Close(t)':'Close'})\n",
        "df_Stock.head()"
      ],
      "metadata": {
        "colab": {
          "base_uri": "https://localhost:8080/",
          "height": 435
        },
        "id": "olavyKWOYQ4b",
        "outputId": "849f99f8-3975-46da-bf74-cfe96b3256e3"
      },
      "execution_count": null,
      "outputs": [
        {
          "output_type": "execute_result",
          "data": {
            "text/plain": [
              "            Open  High   Low  Close     Volume      SD20  Upper_Band  \\\n",
              "Date                                                                   \n",
              "2005-10-17  6.66  6.69  6.50   6.60  154208600  0.169237    6.827473   \n",
              "2005-10-18  6.57  6.66  6.44   6.45  152397000  0.168339    6.819677   \n",
              "2005-10-19  6.43  6.78  6.32   6.78  252170800  0.180306    6.861112   \n",
              "2005-10-20  6.72  6.97  6.71   6.93  339440500  0.202674    6.931847   \n",
              "2005-10-21  7.02  7.03  6.83   6.87  199181500  0.216680    6.974860   \n",
              "\n",
              "            Lower_Band  S_Close(t-1)  S_Close(t-2)  ...  QQQ_MA10  QQQ_MA20  \\\n",
              "Date                                                ...                       \n",
              "2005-10-17    6.150527          6.67          6.63  ...    33.692   33.9970   \n",
              "2005-10-18    6.146323          6.60          6.67  ...    33.570   33.9525   \n",
              "2005-10-19    6.139888          6.45          6.60  ...    33.562   33.9600   \n",
              "2005-10-20    6.121153          6.78          6.45  ...    33.567   33.9455   \n",
              "2005-10-21    6.108140          6.93          6.78  ...    33.586   33.9365   \n",
              "\n",
              "            QQQ_MA50  SnP_Close  SnP(t-1))  SnP(t-5)  DJIA_Close  DJIA(t-1))  \\\n",
              "Date                                                                           \n",
              "2005-10-17   34.2690    1190.10    1186.57   1187.33    10348.10    10287.34   \n",
              "2005-10-18   34.2466    1178.14    1190.10   1184.87    10285.26    10348.10   \n",
              "2005-10-19   34.2330    1195.76    1178.14   1177.68    10414.13    10285.26   \n",
              "2005-10-20   34.2190    1177.80    1195.76   1176.84    10281.10    10414.13   \n",
              "2005-10-21   34.2034    1179.59    1177.80   1186.57    10215.22    10281.10   \n",
              "\n",
              "            DJIA(t-5)  Close_forcast  \n",
              "Date                                  \n",
              "2005-10-17   10238.76           6.45  \n",
              "2005-10-18   10253.17           6.78  \n",
              "2005-10-19   10216.91           6.93  \n",
              "2005-10-20   10216.59           6.87  \n",
              "2005-10-21   10287.34           7.01  \n",
              "\n",
              "[5 rows x 63 columns]"
            ],
            "text/html": [
              "\n",
              "  <div id=\"df-4a51562f-154f-42a7-94a8-1a4ac2a5e745\">\n",
              "    <div class=\"colab-df-container\">\n",
              "      <div>\n",
              "<style scoped>\n",
              "    .dataframe tbody tr th:only-of-type {\n",
              "        vertical-align: middle;\n",
              "    }\n",
              "\n",
              "    .dataframe tbody tr th {\n",
              "        vertical-align: top;\n",
              "    }\n",
              "\n",
              "    .dataframe thead th {\n",
              "        text-align: right;\n",
              "    }\n",
              "</style>\n",
              "<table border=\"1\" class=\"dataframe\">\n",
              "  <thead>\n",
              "    <tr style=\"text-align: right;\">\n",
              "      <th></th>\n",
              "      <th>Open</th>\n",
              "      <th>High</th>\n",
              "      <th>Low</th>\n",
              "      <th>Close</th>\n",
              "      <th>Volume</th>\n",
              "      <th>SD20</th>\n",
              "      <th>Upper_Band</th>\n",
              "      <th>Lower_Band</th>\n",
              "      <th>S_Close(t-1)</th>\n",
              "      <th>S_Close(t-2)</th>\n",
              "      <th>...</th>\n",
              "      <th>QQQ_MA10</th>\n",
              "      <th>QQQ_MA20</th>\n",
              "      <th>QQQ_MA50</th>\n",
              "      <th>SnP_Close</th>\n",
              "      <th>SnP(t-1))</th>\n",
              "      <th>SnP(t-5)</th>\n",
              "      <th>DJIA_Close</th>\n",
              "      <th>DJIA(t-1))</th>\n",
              "      <th>DJIA(t-5)</th>\n",
              "      <th>Close_forcast</th>\n",
              "    </tr>\n",
              "    <tr>\n",
              "      <th>Date</th>\n",
              "      <th></th>\n",
              "      <th></th>\n",
              "      <th></th>\n",
              "      <th></th>\n",
              "      <th></th>\n",
              "      <th></th>\n",
              "      <th></th>\n",
              "      <th></th>\n",
              "      <th></th>\n",
              "      <th></th>\n",
              "      <th></th>\n",
              "      <th></th>\n",
              "      <th></th>\n",
              "      <th></th>\n",
              "      <th></th>\n",
              "      <th></th>\n",
              "      <th></th>\n",
              "      <th></th>\n",
              "      <th></th>\n",
              "      <th></th>\n",
              "      <th></th>\n",
              "    </tr>\n",
              "  </thead>\n",
              "  <tbody>\n",
              "    <tr>\n",
              "      <th>2005-10-17</th>\n",
              "      <td>6.66</td>\n",
              "      <td>6.69</td>\n",
              "      <td>6.50</td>\n",
              "      <td>6.60</td>\n",
              "      <td>154208600</td>\n",
              "      <td>0.169237</td>\n",
              "      <td>6.827473</td>\n",
              "      <td>6.150527</td>\n",
              "      <td>6.67</td>\n",
              "      <td>6.63</td>\n",
              "      <td>...</td>\n",
              "      <td>33.692</td>\n",
              "      <td>33.9970</td>\n",
              "      <td>34.2690</td>\n",
              "      <td>1190.10</td>\n",
              "      <td>1186.57</td>\n",
              "      <td>1187.33</td>\n",
              "      <td>10348.10</td>\n",
              "      <td>10287.34</td>\n",
              "      <td>10238.76</td>\n",
              "      <td>6.45</td>\n",
              "    </tr>\n",
              "    <tr>\n",
              "      <th>2005-10-18</th>\n",
              "      <td>6.57</td>\n",
              "      <td>6.66</td>\n",
              "      <td>6.44</td>\n",
              "      <td>6.45</td>\n",
              "      <td>152397000</td>\n",
              "      <td>0.168339</td>\n",
              "      <td>6.819677</td>\n",
              "      <td>6.146323</td>\n",
              "      <td>6.60</td>\n",
              "      <td>6.67</td>\n",
              "      <td>...</td>\n",
              "      <td>33.570</td>\n",
              "      <td>33.9525</td>\n",
              "      <td>34.2466</td>\n",
              "      <td>1178.14</td>\n",
              "      <td>1190.10</td>\n",
              "      <td>1184.87</td>\n",
              "      <td>10285.26</td>\n",
              "      <td>10348.10</td>\n",
              "      <td>10253.17</td>\n",
              "      <td>6.78</td>\n",
              "    </tr>\n",
              "    <tr>\n",
              "      <th>2005-10-19</th>\n",
              "      <td>6.43</td>\n",
              "      <td>6.78</td>\n",
              "      <td>6.32</td>\n",
              "      <td>6.78</td>\n",
              "      <td>252170800</td>\n",
              "      <td>0.180306</td>\n",
              "      <td>6.861112</td>\n",
              "      <td>6.139888</td>\n",
              "      <td>6.45</td>\n",
              "      <td>6.60</td>\n",
              "      <td>...</td>\n",
              "      <td>33.562</td>\n",
              "      <td>33.9600</td>\n",
              "      <td>34.2330</td>\n",
              "      <td>1195.76</td>\n",
              "      <td>1178.14</td>\n",
              "      <td>1177.68</td>\n",
              "      <td>10414.13</td>\n",
              "      <td>10285.26</td>\n",
              "      <td>10216.91</td>\n",
              "      <td>6.93</td>\n",
              "    </tr>\n",
              "    <tr>\n",
              "      <th>2005-10-20</th>\n",
              "      <td>6.72</td>\n",
              "      <td>6.97</td>\n",
              "      <td>6.71</td>\n",
              "      <td>6.93</td>\n",
              "      <td>339440500</td>\n",
              "      <td>0.202674</td>\n",
              "      <td>6.931847</td>\n",
              "      <td>6.121153</td>\n",
              "      <td>6.78</td>\n",
              "      <td>6.45</td>\n",
              "      <td>...</td>\n",
              "      <td>33.567</td>\n",
              "      <td>33.9455</td>\n",
              "      <td>34.2190</td>\n",
              "      <td>1177.80</td>\n",
              "      <td>1195.76</td>\n",
              "      <td>1176.84</td>\n",
              "      <td>10281.10</td>\n",
              "      <td>10414.13</td>\n",
              "      <td>10216.59</td>\n",
              "      <td>6.87</td>\n",
              "    </tr>\n",
              "    <tr>\n",
              "      <th>2005-10-21</th>\n",
              "      <td>7.02</td>\n",
              "      <td>7.03</td>\n",
              "      <td>6.83</td>\n",
              "      <td>6.87</td>\n",
              "      <td>199181500</td>\n",
              "      <td>0.216680</td>\n",
              "      <td>6.974860</td>\n",
              "      <td>6.108140</td>\n",
              "      <td>6.93</td>\n",
              "      <td>6.78</td>\n",
              "      <td>...</td>\n",
              "      <td>33.586</td>\n",
              "      <td>33.9365</td>\n",
              "      <td>34.2034</td>\n",
              "      <td>1179.59</td>\n",
              "      <td>1177.80</td>\n",
              "      <td>1186.57</td>\n",
              "      <td>10215.22</td>\n",
              "      <td>10281.10</td>\n",
              "      <td>10287.34</td>\n",
              "      <td>7.01</td>\n",
              "    </tr>\n",
              "  </tbody>\n",
              "</table>\n",
              "<p>5 rows × 63 columns</p>\n",
              "</div>\n",
              "      <button class=\"colab-df-convert\" onclick=\"convertToInteractive('df-4a51562f-154f-42a7-94a8-1a4ac2a5e745')\"\n",
              "              title=\"Convert this dataframe to an interactive table.\"\n",
              "              style=\"display:none;\">\n",
              "        \n",
              "  <svg xmlns=\"http://www.w3.org/2000/svg\" height=\"24px\"viewBox=\"0 0 24 24\"\n",
              "       width=\"24px\">\n",
              "    <path d=\"M0 0h24v24H0V0z\" fill=\"none\"/>\n",
              "    <path d=\"M18.56 5.44l.94 2.06.94-2.06 2.06-.94-2.06-.94-.94-2.06-.94 2.06-2.06.94zm-11 1L8.5 8.5l.94-2.06 2.06-.94-2.06-.94L8.5 2.5l-.94 2.06-2.06.94zm10 10l.94 2.06.94-2.06 2.06-.94-2.06-.94-.94-2.06-.94 2.06-2.06.94z\"/><path d=\"M17.41 7.96l-1.37-1.37c-.4-.4-.92-.59-1.43-.59-.52 0-1.04.2-1.43.59L10.3 9.45l-7.72 7.72c-.78.78-.78 2.05 0 2.83L4 21.41c.39.39.9.59 1.41.59.51 0 1.02-.2 1.41-.59l7.78-7.78 2.81-2.81c.8-.78.8-2.07 0-2.86zM5.41 20L4 18.59l7.72-7.72 1.47 1.35L5.41 20z\"/>\n",
              "  </svg>\n",
              "      </button>\n",
              "      \n",
              "  <style>\n",
              "    .colab-df-container {\n",
              "      display:flex;\n",
              "      flex-wrap:wrap;\n",
              "      gap: 12px;\n",
              "    }\n",
              "\n",
              "    .colab-df-convert {\n",
              "      background-color: #E8F0FE;\n",
              "      border: none;\n",
              "      border-radius: 50%;\n",
              "      cursor: pointer;\n",
              "      display: none;\n",
              "      fill: #1967D2;\n",
              "      height: 32px;\n",
              "      padding: 0 0 0 0;\n",
              "      width: 32px;\n",
              "    }\n",
              "\n",
              "    .colab-df-convert:hover {\n",
              "      background-color: #E2EBFA;\n",
              "      box-shadow: 0px 1px 2px rgba(60, 64, 67, 0.3), 0px 1px 3px 1px rgba(60, 64, 67, 0.15);\n",
              "      fill: #174EA6;\n",
              "    }\n",
              "\n",
              "    [theme=dark] .colab-df-convert {\n",
              "      background-color: #3B4455;\n",
              "      fill: #D2E3FC;\n",
              "    }\n",
              "\n",
              "    [theme=dark] .colab-df-convert:hover {\n",
              "      background-color: #434B5C;\n",
              "      box-shadow: 0px 1px 3px 1px rgba(0, 0, 0, 0.15);\n",
              "      filter: drop-shadow(0px 1px 2px rgba(0, 0, 0, 0.3));\n",
              "      fill: #FFFFFF;\n",
              "    }\n",
              "  </style>\n",
              "\n",
              "      <script>\n",
              "        const buttonEl =\n",
              "          document.querySelector('#df-4a51562f-154f-42a7-94a8-1a4ac2a5e745 button.colab-df-convert');\n",
              "        buttonEl.style.display =\n",
              "          google.colab.kernel.accessAllowed ? 'block' : 'none';\n",
              "\n",
              "        async function convertToInteractive(key) {\n",
              "          const element = document.querySelector('#df-4a51562f-154f-42a7-94a8-1a4ac2a5e745');\n",
              "          const dataTable =\n",
              "            await google.colab.kernel.invokeFunction('convertToInteractive',\n",
              "                                                     [key], {});\n",
              "          if (!dataTable) return;\n",
              "\n",
              "          const docLinkHtml = 'Like what you see? Visit the ' +\n",
              "            '<a target=\"_blank\" href=https://colab.research.google.com/notebooks/data_table.ipynb>data table notebook</a>'\n",
              "            + ' to learn more about interactive tables.';\n",
              "          element.innerHTML = '';\n",
              "          dataTable['output_type'] = 'display_data';\n",
              "          await google.colab.output.renderOutput(dataTable, element);\n",
              "          const docLink = document.createElement('div');\n",
              "          docLink.innerHTML = docLinkHtml;\n",
              "          element.appendChild(docLink);\n",
              "        }\n",
              "      </script>\n",
              "    </div>\n",
              "  </div>\n",
              "  "
            ]
          },
          "metadata": {},
          "execution_count": 2
        }
      ]
    },
    {
      "cell_type": "code",
      "source": [
        "df_Stock['Close'].plot(figsize=(10, 7))\n",
        "plt.title(\"Stock Price\", fontsize=17)\n",
        "plt.ylabel('Price', fontsize=14)\n",
        "plt.xlabel('Time', fontsize=14)\n",
        "plt.grid(which=\"major\", color='k', linestyle='-.', linewidth=0.5)\n",
        "plt.show()"
      ],
      "metadata": {
        "colab": {
          "base_uri": "https://localhost:8080/",
          "height": 466
        },
        "id": "WjmoiITbYeIM",
        "outputId": "68614d47-f65c-4c0a-de43-88278ea1e247"
      },
      "execution_count": null,
      "outputs": [
        {
          "output_type": "display_data",
          "data": {
            "text/plain": [
              "<Figure size 720x504 with 1 Axes>"
            ],
            "image/png": "[encoded data removed]"
          },
          "metadata": {
            "needs_background": "light"
          }
        }
      ]
    },
    {
      "cell_type": "code",
      "source": [
        "df_Stock = df_Stock.drop(columns='Date_col')"
      ],
      "metadata": {
        "id": "UnXfwQFIYj1I"
      },
      "execution_count": null,
      "outputs": []
    },
    {
      "cell_type": "code",
      "source": [
        "def create_train_test_set(df_Stock):\n",
        "    \n",
        "    features = df_Stock.drop(columns=['Close_forcast'], axis=1)\n",
        "    target = df_Stock['Close_forcast']\n",
        "    \n",
        "\n",
        "    data_len = df_Stock.shape[0]\n",
        "    print('Historical Stock Data length is - ', str(data_len))\n",
        "\n",
        "    #create a chronological split for train and testing\n",
        "    train_split = int(data_len * 0.88)\n",
        "    print('Training Set length - ', str(train_split))\n",
        "\n",
        "    val_split = train_split + int(data_len * 0.1)\n",
        "    print('Validation Set length - ', str(int(data_len * 0.1)))\n",
        "\n",
        "    print('Test Set length - ', str(int(data_len * 0.02)))\n",
        "\n",
        "\n",
        "    # Splitting features and target into train, validation and test samples \n",
        "    X_train, X_val, X_test = features[:train_split], features[train_split:val_split], features[val_split:]\n",
        "    Y_train, Y_val, Y_test = target[:train_split], target[train_split:val_split], target[val_split:]\n",
        "\n",
        "    #print shape of samples\n",
        "    print(X_train.shape, X_val.shape, X_test.shape)\n",
        "    print(Y_train.shape, Y_val.shape, Y_test.shape)\n",
        "    \n",
        "    return X_train, X_val, X_test, Y_train, Y_val, Y_test"
      ],
      "metadata": {
        "id": "pjnl-6xgYnDv"
      },
      "execution_count": null,
      "outputs": []
    },
    {
      "cell_type": "code",
      "source": [
        "X_train, X_val, X_test, Y_train, Y_val, Y_test = create_train_test_set(df_Stock)\n"
      ],
      "metadata": {
        "colab": {
          "base_uri": "https://localhost:8080/"
        },
        "id": "2DkGE8Q3Yy8R",
        "outputId": "275a31fa-29cf-40fd-e52e-4111422107a7"
      },
      "execution_count": null,
      "outputs": [
        {
          "output_type": "stream",
          "name": "stdout",
          "text": [
            "Historical Stock Data length is -  3732\n",
            "Training Set length -  3284\n",
            "Validation Set length -  373\n",
            "Test Set length -  74\n",
            "(3284, 61) (373, 61) (75, 61)\n",
            "(3284,) (373,) (75,)\n"
          ]
        }
      ]
    },
    {
      "cell_type": "code",
      "source": [
        "from sklearn.linear_model import LinearRegression\n",
        "\n",
        "lr = LinearRegression()\n",
        "lr.fit(X_train, Y_train)"
      ],
      "metadata": {
        "colab": {
          "base_uri": "https://localhost:8080/"
        },
        "id": "sPjgj-WrY7lY",
        "outputId": "ca0b408e-6944-47ef-9ce1-1e81a9578f98"
      },
      "execution_count": null,
      "outputs": [
        {
          "output_type": "execute_result",
          "data": {
            "text/plain": [
              "LinearRegression()"
            ]
          },
          "metadata": {},
          "execution_count": 8
        }
      ]
    },
    {
      "cell_type": "code",
      "source": [
        "print(\"Performance (R^2): \", lr.score(X_train, Y_train))\n"
      ],
      "metadata": {
        "colab": {
          "base_uri": "https://localhost:8080/"
        },
        "id": "sQyrZzLJY-SG",
        "outputId": "32c584c4-0e9a-4cbf-f7e9-36e77581f524"
      },
      "execution_count": null,
      "outputs": [
        {
          "output_type": "stream",
          "name": "stdout",
          "text": [
            "Performance (R^2):  0.9994516474373267\n"
          ]
        }
      ]
    },
    {
      "cell_type": "code",
      "source": [
        "def get_mape(y_true, y_pred): \n",
        "    \"\"\"\n",
        "    Compute mean absolute percentage error (MAPE)\n",
        "    \"\"\"\n",
        "    y_true, y_pred = np.array(y_true), np.array(y_pred)\n",
        "    return np.mean(np.abs((y_true - y_pred) / y_true)) * 100"
      ],
      "metadata": {
        "id": "SR5t9VTGZFlO"
      },
      "execution_count": null,
      "outputs": []
    },
    {
      "cell_type": "code",
      "source": [
        "Y_train_pred = lr.predict(X_train)\n",
        "Y_val_pred = lr.predict(X_val)\n",
        "Y_test_pred = lr.predict(X_test)"
      ],
      "metadata": {
        "id": "JzO2B3nMZIHO"
      },
      "execution_count": null,
      "outputs": []
    },
    {
      "cell_type": "code",
      "source": [
        "print(\"Training R-squared: \",round(metrics.r2_score(Y_train,Y_train_pred),2))\n",
        "print(\"Training Explained Variation: \",round(metrics.explained_variance_score(Y_train,Y_train_pred),2))\n",
        "print('Training MAPE:', round(get_mape(Y_train,Y_train_pred), 2)) \n",
        "print('Training Mean Squared Error:', round(metrics.mean_squared_error(Y_train,Y_train_pred), 2)) \n",
        "print(\"Training RMSE: \",round(np.sqrt(metrics.mean_squared_error(Y_train,Y_train_pred)),2))\n",
        "print(\"Training MAE: \",round(metrics.mean_absolute_error(Y_train,Y_train_pred),2))\n",
        "\n",
        "print(' ')\n",
        "\n",
        "print(\"Validation R-squared: \",round(metrics.r2_score(Y_val,Y_val_pred),2))\n",
        "print(\"Validation Explained Variation: \",round(metrics.explained_variance_score(Y_val,Y_val_pred),2))\n",
        "print('Validation MAPE:', round(get_mape(Y_val,Y_val_pred), 2)) \n",
        "print('Validation Mean Squared Error:', round(metrics.mean_squared_error(Y_train,Y_train_pred), 2)) \n",
        "print(\"Validation RMSE: \",round(np.sqrt(metrics.mean_squared_error(Y_val,Y_val_pred)),2))\n",
        "print(\"Validation MAE: \",round(metrics.mean_absolute_error(Y_val,Y_val_pred),2))\n",
        "\n",
        "print(' ')\n",
        "\n",
        "print(\"Test R-squared: \",round(metrics.r2_score(Y_test,Y_test_pred),2))\n",
        "print(\"Test Explained Variation: \",round(metrics.explained_variance_score(Y_test,Y_test_pred),2))\n",
        "print('Test MAPE:', round(get_mape(Y_test,Y_test_pred), 2)) \n",
        "print('Test Mean Squared Error:', round(metrics.mean_squared_error(Y_test,Y_test_pred), 2)) \n",
        "print(\"Test RMSE: \",round(np.sqrt(metrics.mean_squared_error(Y_test,Y_test_pred)),2))\n",
        "print(\"Test MAE: \",round(metrics.mean_absolute_error(Y_test,Y_test_pred),2))\n"
      ],
      "metadata": {
        "colab": {
          "base_uri": "https://localhost:8080/"
        },
        "id": "4kchnDqAZK17",
        "outputId": "f9f8c1c1-e59c-4fe8-e922-6de89c406147"
      },
      "execution_count": null,
      "outputs": [
        {
          "output_type": "stream",
          "name": "stdout",
          "text": [
            "Training R-squared:  1.0\n",
            "Training Explained Variation:  1.0\n",
            "Training MAPE: 1.45\n",
            "Training Mean Squared Error: 1.48\n",
            "Training RMSE:  1.22\n",
            "Training MAE:  0.76\n",
            " \n",
            "Validation R-squared:  0.99\n",
            "Validation Explained Variation:  0.99\n",
            "Validation MAPE: 1.68\n",
            "Validation Mean Squared Error: 1.48\n",
            "Validation RMSE:  5.91\n",
            "Validation MAE:  3.75\n",
            " \n",
            "Test R-squared:  0.96\n",
            "Test Explained Variation:  0.97\n",
            "Test MAPE: 1.77\n",
            "Test Mean Squared Error: 79.21\n",
            "Test RMSE:  8.9\n",
            "Test MAE:  6.5\n"
          ]
        }
      ]
    },
    {
      "cell_type": "code",
      "source": [
        "df_pred = pd.DataFrame(Y_test.values, columns=['Actual'], index=Y_test.index)\n",
        "df_pred['Predicted'] = Y_test_pred\n",
        "df_pred = df_pred.reset_index()\n",
        "df_pred.loc[:, 'Date'] = pd.to_datetime(df_pred['Date'],format='%Y-%m-%d')\n",
        "df_pred\n"
      ],
      "metadata": {
        "colab": {
          "base_uri": "https://localhost:8080/",
          "height": 424
        },
        "id": "3xCqFtR0ZSl9",
        "outputId": "1ff1a3f4-1552-411b-e4f4-a53c9c774c28"
      },
      "execution_count": null,
      "outputs": [
        {
          "output_type": "execute_result",
          "data": {
            "text/plain": [
              "         Date  Actual   Predicted\n",
              "0  2020-04-29  292.48  286.874736\n",
              "1  2020-04-30  287.77  290.926674\n",
              "2  2020-05-01  291.84  287.018512\n",
              "3  2020-05-04  296.22  290.200746\n",
              "4  2020-05-05  299.28  295.318944\n",
              "..        ...     ...         ...\n",
              "70 2020-08-07  450.91  441.235980\n",
              "71 2020-08-10  437.50  447.931537\n",
              "72 2020-08-11  452.04  436.083713\n",
              "73 2020-08-12  460.04  450.051743\n",
              "74 2020-08-13  459.63  458.974677\n",
              "\n",
              "[75 rows x 3 columns]"
            ],
            "text/html": [
              "\n",
              "  <div id=\"df-c56d0c1e-a0bb-4db5-b6b2-623cc4faa4db\">\n",
              "    <div class=\"colab-df-container\">\n",
              "      <div>\n",
              "<style scoped>\n",
              "    .dataframe tbody tr th:only-of-type {\n",
              "        vertical-align: middle;\n",
              "    }\n",
              "\n",
              "    .dataframe tbody tr th {\n",
              "        vertical-align: top;\n",
              "    }\n",
              "\n",
              "    .dataframe thead th {\n",
              "        text-align: right;\n",
              "    }\n",
              "</style>\n",
              "<table border=\"1\" class=\"dataframe\">\n",
              "  <thead>\n",
              "    <tr style=\"text-align: right;\">\n",
              "      <th></th>\n",
              "      <th>Date</th>\n",
              "      <th>Actual</th>\n",
              "      <th>Predicted</th>\n",
              "    </tr>\n",
              "  </thead>\n",
              "  <tbody>\n",
              "    <tr>\n",
              "      <th>0</th>\n",
              "      <td>2020-04-29</td>\n",
              "      <td>292.48</td>\n",
              "      <td>286.874736</td>\n",
              "    </tr>\n",
              "    <tr>\n",
              "      <th>1</th>\n",
              "      <td>2020-04-30</td>\n",
              "      <td>287.77</td>\n",
              "      <td>290.926674</td>\n",
              "    </tr>\n",
              "    <tr>\n",
              "      <th>2</th>\n",
              "      <td>2020-05-01</td>\n",
              "      <td>291.84</td>\n",
              "      <td>287.018512</td>\n",
              "    </tr>\n",
              "    <tr>\n",
              "      <th>3</th>\n",
              "      <td>2020-05-04</td>\n",
              "      <td>296.22</td>\n",
              "      <td>290.200746</td>\n",
              "    </tr>\n",
              "    <tr>\n",
              "      <th>4</th>\n",
              "      <td>2020-05-05</td>\n",
              "      <td>299.28</td>\n",
              "      <td>295.318944</td>\n",
              "    </tr>\n",
              "    <tr>\n",
              "      <th>...</th>\n",
              "      <td>...</td>\n",
              "      <td>...</td>\n",
              "      <td>...</td>\n",
              "    </tr>\n",
              "    <tr>\n",
              "      <th>70</th>\n",
              "      <td>2020-08-07</td>\n",
              "      <td>450.91</td>\n",
              "      <td>441.235980</td>\n",
              "    </tr>\n",
              "    <tr>\n",
              "      <th>71</th>\n",
              "      <td>2020-08-10</td>\n",
              "      <td>437.50</td>\n",
              "      <td>447.931537</td>\n",
              "    </tr>\n",
              "    <tr>\n",
              "      <th>72</th>\n",
              "      <td>2020-08-11</td>\n",
              "      <td>452.04</td>\n",
              "      <td>436.083713</td>\n",
              "    </tr>\n",
              "    <tr>\n",
              "      <th>73</th>\n",
              "      <td>2020-08-12</td>\n",
              "      <td>460.04</td>\n",
              "      <td>450.051743</td>\n",
              "    </tr>\n",
              "    <tr>\n",
              "      <th>74</th>\n",
              "      <td>2020-08-13</td>\n",
              "      <td>459.63</td>\n",
              "      <td>458.974677</td>\n",
              "    </tr>\n",
              "  </tbody>\n",
              "</table>\n",
              "<p>75 rows × 3 columns</p>\n",
              "</div>\n",
              "      <button class=\"colab-df-convert\" onclick=\"convertToInteractive('df-c56d0c1e-a0bb-4db5-b6b2-623cc4faa4db')\"\n",
              "              title=\"Convert this dataframe to an interactive table.\"\n",
              "              style=\"display:none;\">\n",
              "        \n",
              "  <svg xmlns=\"http://www.w3.org/2000/svg\" height=\"24px\"viewBox=\"0 0 24 24\"\n",
              "       width=\"24px\">\n",
              "    <path d=\"M0 0h24v24H0V0z\" fill=\"none\"/>\n",
              "    <path d=\"M18.56 5.44l.94 2.06.94-2.06 2.06-.94-2.06-.94-.94-2.06-.94 2.06-2.06.94zm-11 1L8.5 8.5l.94-2.06 2.06-.94-2.06-.94L8.5 2.5l-.94 2.06-2.06.94zm10 10l.94 2.06.94-2.06 2.06-.94-2.06-.94-.94-2.06-.94 2.06-2.06.94z\"/><path d=\"M17.41 7.96l-1.37-1.37c-.4-.4-.92-.59-1.43-.59-.52 0-1.04.2-1.43.59L10.3 9.45l-7.72 7.72c-.78.78-.78 2.05 0 2.83L4 21.41c.39.39.9.59 1.41.59.51 0 1.02-.2 1.41-.59l7.78-7.78 2.81-2.81c.8-.78.8-2.07 0-2.86zM5.41 20L4 18.59l7.72-7.72 1.47 1.35L5.41 20z\"/>\n",
              "  </svg>\n",
              "      </button>\n",
              "      \n",
              "  <style>\n",
              "    .colab-df-container {\n",
              "      display:flex;\n",
              "      flex-wrap:wrap;\n",
              "      gap: 12px;\n",
              "    }\n",
              "\n",
              "    .colab-df-convert {\n",
              "      background-color: #E8F0FE;\n",
              "      border: none;\n",
              "      border-radius: 50%;\n",
              "      cursor: pointer;\n",
              "      display: none;\n",
              "      fill: #1967D2;\n",
              "      height: 32px;\n",
              "      padding: 0 0 0 0;\n",
              "      width: 32px;\n",
              "    }\n",
              "\n",
              "    .colab-df-convert:hover {\n",
              "      background-color: #E2EBFA;\n",
              "      box-shadow: 0px 1px 2px rgba(60, 64, 67, 0.3), 0px 1px 3px 1px rgba(60, 64, 67, 0.15);\n",
              "      fill: #174EA6;\n",
              "    }\n",
              "\n",
              "    [theme=dark] .colab-df-convert {\n",
              "      background-color: #3B4455;\n",
              "      fill: #D2E3FC;\n",
              "    }\n",
              "\n",
              "    [theme=dark] .colab-df-convert:hover {\n",
              "      background-color: #434B5C;\n",
              "      box-shadow: 0px 1px 3px 1px rgba(0, 0, 0, 0.15);\n",
              "      filter: drop-shadow(0px 1px 2px rgba(0, 0, 0, 0.3));\n",
              "      fill: #FFFFFF;\n",
              "    }\n",
              "  </style>\n",
              "\n",
              "      <script>\n",
              "        const buttonEl =\n",
              "          document.querySelector('#df-c56d0c1e-a0bb-4db5-b6b2-623cc4faa4db button.colab-df-convert');\n",
              "        buttonEl.style.display =\n",
              "          google.colab.kernel.accessAllowed ? 'block' : 'none';\n",
              "\n",
              "        async function convertToInteractive(key) {\n",
              "          const element = document.querySelector('#df-c56d0c1e-a0bb-4db5-b6b2-623cc4faa4db');\n",
              "          const dataTable =\n",
              "            await google.colab.kernel.invokeFunction('convertToInteractive',\n",
              "                                                     [key], {});\n",
              "          if (!dataTable) return;\n",
              "\n",
              "          const docLinkHtml = 'Like what you see? Visit the ' +\n",
              "            '<a target=\"_blank\" href=https://colab.research.google.com/notebooks/data_table.ipynb>data table notebook</a>'\n",
              "            + ' to learn more about interactive tables.';\n",
              "          element.innerHTML = '';\n",
              "          dataTable['output_type'] = 'display_data';\n",
              "          await google.colab.output.renderOutput(dataTable, element);\n",
              "          const docLink = document.createElement('div');\n",
              "          docLink.innerHTML = docLinkHtml;\n",
              "          element.appendChild(docLink);\n",
              "        }\n",
              "      </script>\n",
              "    </div>\n",
              "  </div>\n",
              "  "
            ]
          },
          "metadata": {},
          "execution_count": 22
        }
      ]
    },
    {
      "cell_type": "code",
      "source": [
        "df_pred[['Actual', 'Predicted']].plot()"
      ],
      "metadata": {
        "colab": {
          "base_uri": "https://localhost:8080/",
          "height": 282
        },
        "id": "LHzBrKJBZW8X",
        "outputId": "3ee5bc45-089c-46a0-8a81-d06c16c194f1"
      },
      "execution_count": null,
      "outputs": [
        {
          "output_type": "execute_result",
          "data": {
            "text/plain": [
              "<matplotlib.axes._subplots.AxesSubplot at 0x7f2e68facc90>"
            ]
          },
          "metadata": {},
          "execution_count": 23
        },
        {
          "output_type": "display_data",
          "data": {
            "text/plain": [
              "<Figure size 432x288 with 1 Axes>"
            ],
            "image/png": "[encoded data removed]"
          },
          "metadata": {
            "needs_background": "light"
          }
        }
      ]
    },
    {
      "cell_type": "code",
      "source": [],
      "metadata": {
        "id": "ucdONv9wZbIx"
      },
      "execution_count": null,
      "outputs": []
    }
  ]
}