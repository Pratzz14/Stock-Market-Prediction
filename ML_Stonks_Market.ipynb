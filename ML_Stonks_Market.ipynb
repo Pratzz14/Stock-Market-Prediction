{
  "nbformat": 4,
  "nbformat_minor": 0,
  "metadata": {
    "colab": {
      "provenance": []
    },
    "kernelspec": {
      "name": "python3",
      "display_name": "Python 3"
    },
    "language_info": {
      "name": "python"
    }
  },
  "cells": [
    {
      "cell_type": "code",
      "execution_count": null,
      "metadata": {
        "colab": {
          "base_uri": "https://localhost:8080/"
        },
        "id": "yaJjvxJpnnRf",
        "outputId": "b5878498-f2d1-43e4-8523-a535c799a133"
      },
      "outputs": [
        {
          "output_type": "stream",
          "name": "stdout",
          "text": [
            "Stonks stonks stonks\n"
          ]
        }
      ],
      "source": [
        "print(\"Stonks stonks stonks\")"
      ]
    },
    {
      "cell_type": "code",
      "source": [
        "!pip install yfinance\n",
        "import yfinance as yf"
      ],
      "metadata": {
        "colab": {
          "base_uri": "https://localhost:8080/"
        },
        "id": "k7I-D8yrnxEw",
        "outputId": "a3dc8f1c-4159-43b9-8fd5-8c5289834dbf"
      },
      "execution_count": null,
      "outputs": [
        {
          "output_type": "stream",
          "name": "stdout",
          "text": [
            "Looking in indexes: https://pypi.org/simple, https://us-python.pkg.dev/colab-wheels/public/simple/\n",
            "Collecting yfinance\n",
            "  Downloading yfinance-0.1.74-py2.py3-none-any.whl (27 kB)\n",
            "Requirement already satisfied: lxml>=4.5.1 in /usr/local/lib/python3.7/dist-packages (from yfinance) (4.9.1)\n",
            "Collecting requests>=2.26\n",
            "  Downloading requests-2.28.1-py3-none-any.whl (62 kB)\n",
            "\u001b[K     |████████████████████████████████| 62 kB 1.2 MB/s \n",
            "\u001b[?25hRequirement already satisfied: pandas>=0.24.0 in /usr/local/lib/python3.7/dist-packages (from yfinance) (1.3.5)\n",
            "Requirement already satisfied: multitasking>=0.0.7 in /usr/local/lib/python3.7/dist-packages (from yfinance) (0.0.11)\n",
            "Requirement already satisfied: numpy>=1.15 in /usr/local/lib/python3.7/dist-packages (from yfinance) (1.21.6)\n",
            "Requirement already satisfied: pytz>=2017.3 in /usr/local/lib/python3.7/dist-packages (from pandas>=0.24.0->yfinance) (2022.2.1)\n",
            "Requirement already satisfied: python-dateutil>=2.7.3 in /usr/local/lib/python3.7/dist-packages (from pandas>=0.24.0->yfinance) (2.8.2)\n",
            "Requirement already satisfied: six>=1.5 in /usr/local/lib/python3.7/dist-packages (from python-dateutil>=2.7.3->pandas>=0.24.0->yfinance) (1.15.0)\n",
            "Requirement already satisfied: urllib3<1.27,>=1.21.1 in /usr/local/lib/python3.7/dist-packages (from requests>=2.26->yfinance) (1.24.3)\n",
            "Requirement already satisfied: certifi>=2017.4.17 in /usr/local/lib/python3.7/dist-packages (from requests>=2.26->yfinance) (2022.6.15)\n",
            "Requirement already satisfied: idna<4,>=2.5 in /usr/local/lib/python3.7/dist-packages (from requests>=2.26->yfinance) (2.10)\n",
            "Requirement already satisfied: charset-normalizer<3,>=2 in /usr/local/lib/python3.7/dist-packages (from requests>=2.26->yfinance) (2.1.1)\n",
            "Installing collected packages: requests, yfinance\n",
            "  Attempting uninstall: requests\n",
            "    Found existing installation: requests 2.23.0\n",
            "    Uninstalling requests-2.23.0:\n",
            "      Successfully uninstalled requests-2.23.0\n",
            "Successfully installed requests-2.28.1 yfinance-0.1.74\n"
          ]
        }
      ]
    },
    {
      "cell_type": "code",
      "source": [
        "stock_symbol = 'TATASTEEL.NS'\n",
        "data = yf.download(tickers=stock_symbol,period='5y',interval='1d')\n"
      ],
      "metadata": {
        "colab": {
          "base_uri": "https://localhost:8080/"
        },
        "id": "_KeFlxOvpKJl",
        "outputId": "1e1f831f-9d1c-4199-8f4a-75817acd4c8b"
      },
      "execution_count": null,
      "outputs": [
        {
          "output_type": "stream",
          "name": "stdout",
          "text": [
            "\r[*********************100%***********************]  1 of 1 completed\n"
          ]
        }
      ]
    },
    {
      "cell_type": "code",
      "source": [
        "type(data)"
      ],
      "metadata": {
        "colab": {
          "base_uri": "https://localhost:8080/"
        },
        "id": "-wnYiPQBpWa0",
        "outputId": "4d295e44-3dbc-4e09-8799-4eebe573d27e"
      },
      "execution_count": null,
      "outputs": [
        {
          "output_type": "execute_result",
          "data": {
            "text/plain": [
              "pandas.core.frame.DataFrame"
            ]
          },
          "metadata": {},
          "execution_count": 4
        }
      ]
    },
    {
      "cell_type": "code",
      "source": [
        "data.head()"
      ],
      "metadata": {
        "colab": {
          "base_uri": "https://localhost:8080/",
          "height": 237
        },
        "id": "a0GsMVgQpr_W",
        "outputId": "51800b9d-c438-4658-fdd9-2cc60ee4d79b"
      },
      "execution_count": null,
      "outputs": [
        {
          "output_type": "execute_result",
          "data": {
            "text/plain": [
              "                 Open       High        Low      Close  Adj Close    Volume\n",
              "Date                                                                       \n",
              "2017-09-27  62.880619  62.880619  61.265728  61.865952  25.103474  52058583\n",
              "2017-09-28  62.204174  62.547161  61.227619  61.899300  25.117006  69053825\n",
              "2017-09-29  62.385197  62.594795  61.932644  62.170830  25.227186  29796912\n",
              "2017-10-03  62.547161  63.442734  62.547161  62.956837  25.546127  29913418\n",
              "2017-10-04  62.918728  63.123566  62.351849  62.785343  25.476542  29226912"
            ],
            "text/html": [
              "\n",
              "  <div id=\"df-0b91af44-dd68-41d3-9083-008a3282f5e8\">\n",
              "    <div class=\"colab-df-container\">\n",
              "      <div>\n",
              "<style scoped>\n",
              "    .dataframe tbody tr th:only-of-type {\n",
              "        vertical-align: middle;\n",
              "    }\n",
              "\n",
              "    .dataframe tbody tr th {\n",
              "        vertical-align: top;\n",
              "    }\n",
              "\n",
              "    .dataframe thead th {\n",
              "        text-align: right;\n",
              "    }\n",
              "</style>\n",
              "<table border=\"1\" class=\"dataframe\">\n",
              "  <thead>\n",
              "    <tr style=\"text-align: right;\">\n",
              "      <th></th>\n",
              "      <th>Open</th>\n",
              "      <th>High</th>\n",
              "      <th>Low</th>\n",
              "      <th>Close</th>\n",
              "      <th>Adj Close</th>\n",
              "      <th>Volume</th>\n",
              "    </tr>\n",
              "    <tr>\n",
              "      <th>Date</th>\n",
              "      <th></th>\n",
              "      <th></th>\n",
              "      <th></th>\n",
              "      <th></th>\n",
              "      <th></th>\n",
              "      <th></th>\n",
              "    </tr>\n",
              "  </thead>\n",
              "  <tbody>\n",
              "    <tr>\n",
              "      <th>2017-09-27</th>\n",
              "      <td>62.880619</td>\n",
              "      <td>62.880619</td>\n",
              "      <td>61.265728</td>\n",
              "      <td>61.865952</td>\n",
              "      <td>25.103474</td>\n",
              "      <td>52058583</td>\n",
              "    </tr>\n",
              "    <tr>\n",
              "      <th>2017-09-28</th>\n",
              "      <td>62.204174</td>\n",
              "      <td>62.547161</td>\n",
              "      <td>61.227619</td>\n",
              "      <td>61.899300</td>\n",
              "      <td>25.117006</td>\n",
              "      <td>69053825</td>\n",
              "    </tr>\n",
              "    <tr>\n",
              "      <th>2017-09-29</th>\n",
              "      <td>62.385197</td>\n",
              "      <td>62.594795</td>\n",
              "      <td>61.932644</td>\n",
              "      <td>62.170830</td>\n",
              "      <td>25.227186</td>\n",
              "      <td>29796912</td>\n",
              "    </tr>\n",
              "    <tr>\n",
              "      <th>2017-10-03</th>\n",
              "      <td>62.547161</td>\n",
              "      <td>63.442734</td>\n",
              "      <td>62.547161</td>\n",
              "      <td>62.956837</td>\n",
              "      <td>25.546127</td>\n",
              "      <td>29913418</td>\n",
              "    </tr>\n",
              "    <tr>\n",
              "      <th>2017-10-04</th>\n",
              "      <td>62.918728</td>\n",
              "      <td>63.123566</td>\n",
              "      <td>62.351849</td>\n",
              "      <td>62.785343</td>\n",
              "      <td>25.476542</td>\n",
              "      <td>29226912</td>\n",
              "    </tr>\n",
              "  </tbody>\n",
              "</table>\n",
              "</div>\n",
              "      <button class=\"colab-df-convert\" onclick=\"convertToInteractive('df-0b91af44-dd68-41d3-9083-008a3282f5e8')\"\n",
              "              title=\"Convert this dataframe to an interactive table.\"\n",
              "              style=\"display:none;\">\n",
              "        \n",
              "  <svg xmlns=\"http://www.w3.org/2000/svg\" height=\"24px\"viewBox=\"0 0 24 24\"\n",
              "       width=\"24px\">\n",
              "    <path d=\"M0 0h24v24H0V0z\" fill=\"none\"/>\n",
              "    <path d=\"M18.56 5.44l.94 2.06.94-2.06 2.06-.94-2.06-.94-.94-2.06-.94 2.06-2.06.94zm-11 1L8.5 8.5l.94-2.06 2.06-.94-2.06-.94L8.5 2.5l-.94 2.06-2.06.94zm10 10l.94 2.06.94-2.06 2.06-.94-2.06-.94-.94-2.06-.94 2.06-2.06.94z\"/><path d=\"M17.41 7.96l-1.37-1.37c-.4-.4-.92-.59-1.43-.59-.52 0-1.04.2-1.43.59L10.3 9.45l-7.72 7.72c-.78.78-.78 2.05 0 2.83L4 21.41c.39.39.9.59 1.41.59.51 0 1.02-.2 1.41-.59l7.78-7.78 2.81-2.81c.8-.78.8-2.07 0-2.86zM5.41 20L4 18.59l7.72-7.72 1.47 1.35L5.41 20z\"/>\n",
              "  </svg>\n",
              "      </button>\n",
              "      \n",
              "  <style>\n",
              "    .colab-df-container {\n",
              "      display:flex;\n",
              "      flex-wrap:wrap;\n",
              "      gap: 12px;\n",
              "    }\n",
              "\n",
              "    .colab-df-convert {\n",
              "      background-color: #E8F0FE;\n",
              "      border: none;\n",
              "      border-radius: 50%;\n",
              "      cursor: pointer;\n",
              "      display: none;\n",
              "      fill: #1967D2;\n",
              "      height: 32px;\n",
              "      padding: 0 0 0 0;\n",
              "      width: 32px;\n",
              "    }\n",
              "\n",
              "    .colab-df-convert:hover {\n",
              "      background-color: #E2EBFA;\n",
              "      box-shadow: 0px 1px 2px rgba(60, 64, 67, 0.3), 0px 1px 3px 1px rgba(60, 64, 67, 0.15);\n",
              "      fill: #174EA6;\n",
              "    }\n",
              "\n",
              "    [theme=dark] .colab-df-convert {\n",
              "      background-color: #3B4455;\n",
              "      fill: #D2E3FC;\n",
              "    }\n",
              "\n",
              "    [theme=dark] .colab-df-convert:hover {\n",
              "      background-color: #434B5C;\n",
              "      box-shadow: 0px 1px 3px 1px rgba(0, 0, 0, 0.15);\n",
              "      filter: drop-shadow(0px 1px 2px rgba(0, 0, 0, 0.3));\n",
              "      fill: #FFFFFF;\n",
              "    }\n",
              "  </style>\n",
              "\n",
              "      <script>\n",
              "        const buttonEl =\n",
              "          document.querySelector('#df-0b91af44-dd68-41d3-9083-008a3282f5e8 button.colab-df-convert');\n",
              "        buttonEl.style.display =\n",
              "          google.colab.kernel.accessAllowed ? 'block' : 'none';\n",
              "\n",
              "        async function convertToInteractive(key) {\n",
              "          const element = document.querySelector('#df-0b91af44-dd68-41d3-9083-008a3282f5e8');\n",
              "          const dataTable =\n",
              "            await google.colab.kernel.invokeFunction('convertToInteractive',\n",
              "                                                     [key], {});\n",
              "          if (!dataTable) return;\n",
              "\n",
              "          const docLinkHtml = 'Like what you see? Visit the ' +\n",
              "            '<a target=\"_blank\" href=https://colab.research.google.com/notebooks/data_table.ipynb>data table notebook</a>'\n",
              "            + ' to learn more about interactive tables.';\n",
              "          element.innerHTML = '';\n",
              "          dataTable['output_type'] = 'display_data';\n",
              "          await google.colab.output.renderOutput(dataTable, element);\n",
              "          const docLink = document.createElement('div');\n",
              "          docLink.innerHTML = docLinkHtml;\n",
              "          element.appendChild(docLink);\n",
              "        }\n",
              "      </script>\n",
              "    </div>\n",
              "  </div>\n",
              "  "
            ]
          },
          "metadata": {},
          "execution_count": 5
        }
      ]
    },
    {
      "cell_type": "code",
      "source": [
        "len(data)"
      ],
      "metadata": {
        "colab": {
          "base_uri": "https://localhost:8080/"
        },
        "id": "tEj7Q9GPpt8l",
        "outputId": "64def96f-6a2d-476b-a590-03aca0fbb732"
      },
      "execution_count": null,
      "outputs": [
        {
          "output_type": "execute_result",
          "data": {
            "text/plain": [
              "1236"
            ]
          },
          "metadata": {},
          "execution_count": 6
        }
      ]
    },
    {
      "cell_type": "code",
      "source": [
        "opn = data[['High']]\n",
        "opn.plot()"
      ],
      "metadata": {
        "colab": {
          "base_uri": "https://localhost:8080/",
          "height": 286
        },
        "id": "lhcScIVtpynF",
        "outputId": "a07556d8-d5e0-478e-cb25-036a6e5a3b1f"
      },
      "execution_count": null,
      "outputs": [
        {
          "output_type": "execute_result",
          "data": {
            "text/plain": [
              "<matplotlib.axes._subplots.AxesSubplot at 0x7f555da01190>"
            ]
          },
          "metadata": {},
          "execution_count": 12
        },
        {
          "output_type": "display_data",
          "data": {
            "text/plain": [
              "<Figure size 432x288 with 1 Axes>"
            ],
            "image/png": "[encoded data removed]"
          },
          "metadata": {
            "needs_background": "light"
          }
        }
      ]
    },
    {
      "cell_type": "code",
      "source": [
        "import matplotlib.pyplot as plt\n",
        "ds = opn.values\n",
        "ds"
      ],
      "metadata": {
        "colab": {
          "base_uri": "https://localhost:8080/"
        },
        "id": "MvfOE1hzp_v1",
        "outputId": "cf451f55-0bf2-4a58-b707-78a1e9a3b808"
      },
      "execution_count": null,
      "outputs": [
        {
          "output_type": "execute_result",
          "data": {
            "text/plain": [
              "array([[ 62.88061905],\n",
              "       [ 62.5471611 ],\n",
              "       [ 62.59479523],\n",
              "       ...,\n",
              "       [107.90000153],\n",
              "       [104.44999695],\n",
              "       [101.34999847]])"
            ]
          },
          "metadata": {},
          "execution_count": 13
        }
      ]
    },
    {
      "cell_type": "code",
      "source": [
        "plt.plot(ds)\n"
      ],
      "metadata": {
        "colab": {
          "base_uri": "https://localhost:8080/",
          "height": 282
        },
        "id": "QDA-ynqZqMHE",
        "outputId": "e741291d-5bc7-4008-da37-9cc57a721e05"
      },
      "execution_count": null,
      "outputs": [
        {
          "output_type": "execute_result",
          "data": {
            "text/plain": [
              "[<matplotlib.lines.Line2D at 0x7f555dbb1510>]"
            ]
          },
          "metadata": {},
          "execution_count": 14
        },
        {
          "output_type": "display_data",
          "data": {
            "text/plain": [
              "<Figure size 432x288 with 1 Axes>"
            ],
            "image/png": "[encoded data removed]"
          },
          "metadata": {
            "needs_background": "light"
          }
        }
      ]
    },
    {
      "cell_type": "code",
      "source": [
        "import numpy as np\n",
        "from sklearn.preprocessing import MinMaxScaler\n"
      ],
      "metadata": {
        "id": "gd0dtbnsqOHE"
      },
      "execution_count": null,
      "outputs": []
    },
    {
      "cell_type": "code",
      "source": [
        "\n",
        "#Using MinMaxScaler for normalizing data between 0 & 1\n",
        "normalizer = MinMaxScaler(feature_range=(0,1))\n",
        "ds_scaled = normalizer.fit_transform(np.array(ds).reshape(-1,1))"
      ],
      "metadata": {
        "id": "-4sMCkWlqjdl"
      },
      "execution_count": null,
      "outputs": []
    },
    {
      "cell_type": "code",
      "source": [
        "len(ds_scaled), len(ds)\n"
      ],
      "metadata": {
        "colab": {
          "base_uri": "https://localhost:8080/"
        },
        "id": "L0ZkJz2iqlbk",
        "outputId": "745231a7-554a-4c46-c011-a17db031b74e"
      },
      "execution_count": null,
      "outputs": [
        {
          "output_type": "execute_result",
          "data": {
            "text/plain": [
              "(1236, 1236)"
            ]
          },
          "metadata": {},
          "execution_count": 15
        }
      ]
    },
    {
      "cell_type": "code",
      "source": [
        "#Defining test and train data sizes\n",
        "train_size = int(len(ds_scaled)*0.70)\n",
        "test_size = len(ds_scaled) - train_size\n",
        "train_size,test_size"
      ],
      "metadata": {
        "colab": {
          "base_uri": "https://localhost:8080/"
        },
        "id": "e1oDGKb4qnE0",
        "outputId": "7b9e3d20-8f13-4de7-c5e3-57abfdc48e60"
      },
      "execution_count": null,
      "outputs": [
        {
          "output_type": "execute_result",
          "data": {
            "text/plain": [
              "(865, 371)"
            ]
          },
          "metadata": {},
          "execution_count": 16
        }
      ]
    },
    {
      "cell_type": "code",
      "source": [
        "ds_train, ds_test = ds_scaled[0:train_size,:], ds_scaled[train_size:len(ds_scaled),:1]\n",
        "len(ds_train),len(ds_test)\n"
      ],
      "metadata": {
        "colab": {
          "base_uri": "https://localhost:8080/"
        },
        "id": "51fXddCpquA1",
        "outputId": "0d9d6144-c7ea-475a-9d5d-709c9e8a2f0e"
      },
      "execution_count": null,
      "outputs": [
        {
          "output_type": "execute_result",
          "data": {
            "text/plain": [
              "(865, 371)"
            ]
          },
          "metadata": {},
          "execution_count": 17
        }
      ]
    },
    {
      "cell_type": "code",
      "source": [
        "#creating dataset in time series for LSTM model \n",
        "#X[100,120,140,160,180] : Y[200]\n",
        "def create_ds(dataset,step):\n",
        "    Xtrain, Ytrain = [], []\n",
        "    for i in range(len(dataset)-step-1):\n",
        "        a = dataset[i:(i+step), 0]\n",
        "        Xtrain.append(a)\n",
        "        Ytrain.append(dataset[i + step, 0])\n",
        "    return np.array(Xtrain), np.array(Ytrain)"
      ],
      "metadata": {
        "id": "U5wCQBDvq0Pl"
      },
      "execution_count": null,
      "outputs": []
    },
    {
      "cell_type": "code",
      "source": [
        "#Taking 100 days price as one record for training\n",
        "time_stamp = 100\n",
        "X_train, y_train = create_ds(ds_train,time_stamp)\n",
        "X_test, y_test = create_ds(ds_test,time_stamp)\n",
        "\n",
        "X_train.shape,y_train.shape\n"
      ],
      "metadata": {
        "colab": {
          "base_uri": "https://localhost:8080/"
        },
        "id": "wKEIuQIJq3Zl",
        "outputId": "7f0223e4-1a33-43ad-80a3-658d9dd591da"
      },
      "execution_count": null,
      "outputs": [
        {
          "output_type": "execute_result",
          "data": {
            "text/plain": [
              "((764, 100), (764,))"
            ]
          },
          "metadata": {},
          "execution_count": 19
        }
      ]
    },
    {
      "cell_type": "code",
      "source": [
        "#Reshaping data to fit into LSTM model\n",
        "X_train = X_train.reshape(X_train.shape[0],X_train.shape[1] , 1)\n",
        "X_test = X_test.reshape(X_test.shape[0],X_test.shape[1] , 1)"
      ],
      "metadata": {
        "id": "ACAaY0frq7ak"
      },
      "execution_count": null,
      "outputs": []
    },
    {
      "cell_type": "code",
      "source": [
        "from keras.models import Sequential\n",
        "from keras.layers import Dense, LSTM"
      ],
      "metadata": {
        "id": "_uE-gyBHq-GU"
      },
      "execution_count": null,
      "outputs": []
    },
    {
      "cell_type": "code",
      "source": [
        "#Creating LSTM model using keras\n",
        "model = Sequential()\n",
        "model.add(LSTM(units=50,return_sequences=True,input_shape=(X_train.shape[1],1)))\n",
        "model.add(LSTM(units=50,return_sequences=True))\n",
        "model.add(LSTM(units=50))\n",
        "model.add(Dense(units=1,activation='linear'))\n",
        "model.summary()"
      ],
      "metadata": {
        "colab": {
          "base_uri": "https://localhost:8080/"
        },
        "id": "br7h07NQrA_1",
        "outputId": "709ffd22-63ae-46bd-f463-37bf67998339"
      },
      "execution_count": null,
      "outputs": [
        {
          "output_type": "stream",
          "name": "stdout",
          "text": [
            "Model: \"sequential\"\n",
            "_________________________________________________________________\n",
            " Layer (type)                Output Shape              Param #   \n",
            "=================================================================\n",
            " lstm (LSTM)                 (None, 100, 50)           10400     \n",
            "                                                                 \n",
            " lstm_1 (LSTM)               (None, 100, 50)           20200     \n",
            "                                                                 \n",
            " lstm_2 (LSTM)               (None, 50)                20200     \n",
            "                                                                 \n",
            " dense (Dense)               (None, 1)                 51        \n",
            "                                                                 \n",
            "=================================================================\n",
            "Total params: 50,851\n",
            "Trainable params: 50,851\n",
            "Non-trainable params: 0\n",
            "_________________________________________________________________\n"
          ]
        }
      ]
    },
    {
      "cell_type": "code",
      "source": [
        "#Training model with adam optimizer and mean squared error loss function\n",
        "model.compile(loss='mean_squared_error',optimizer='adam')\n",
        "model.fit(X_train,y_train,validation_data=(X_test,y_test),epochs=100,batch_size=64)\n"
      ],
      "metadata": {
        "colab": {
          "base_uri": "https://localhost:8080/"
        },
        "id": "URJ2AWFvrCsU",
        "outputId": "76d6b633-005a-481a-abb3-c4736ebc08dc"
      },
      "execution_count": null,
      "outputs": [
        {
          "output_type": "stream",
          "name": "stdout",
          "text": [
            "Epoch 1/100\n",
            "12/12 [==============================] - 10s 329ms/step - loss: 0.0111 - val_loss: 0.0936\n",
            "Epoch 2/100\n",
            "12/12 [==============================] - 2s 197ms/step - loss: 0.0025 - val_loss: 0.0073\n",
            "Epoch 3/100\n",
            "12/12 [==============================] - 2s 199ms/step - loss: 0.0012 - val_loss: 0.0047\n",
            "Epoch 4/100\n",
            "12/12 [==============================] - 2s 199ms/step - loss: 9.2423e-04 - val_loss: 0.0057\n",
            "Epoch 5/100\n",
            "12/12 [==============================] - 2s 195ms/step - loss: 8.3015e-04 - val_loss: 0.0037\n",
            "Epoch 6/100\n",
            "12/12 [==============================] - 2s 198ms/step - loss: 7.6446e-04 - val_loss: 0.0035\n",
            "Epoch 7/100\n",
            "12/12 [==============================] - 2s 199ms/step - loss: 7.4611e-04 - val_loss: 0.0036\n",
            "Epoch 8/100\n",
            "12/12 [==============================] - 2s 195ms/step - loss: 7.3172e-04 - val_loss: 0.0034\n",
            "Epoch 9/100\n",
            "12/12 [==============================] - 2s 196ms/step - loss: 6.5114e-04 - val_loss: 0.0043\n",
            "Epoch 10/100\n",
            "12/12 [==============================] - 2s 197ms/step - loss: 6.0822e-04 - val_loss: 0.0048\n",
            "Epoch 11/100\n",
            "12/12 [==============================] - 2s 197ms/step - loss: 5.8809e-04 - val_loss: 0.0042\n",
            "Epoch 12/100\n",
            "12/12 [==============================] - 2s 194ms/step - loss: 5.4880e-04 - val_loss: 0.0032\n",
            "Epoch 13/100\n",
            "12/12 [==============================] - 2s 194ms/step - loss: 5.4336e-04 - val_loss: 0.0027\n",
            "Epoch 14/100\n",
            "12/12 [==============================] - 2s 195ms/step - loss: 4.8821e-04 - val_loss: 0.0040\n",
            "Epoch 15/100\n",
            "12/12 [==============================] - 2s 197ms/step - loss: 4.7477e-04 - val_loss: 0.0031\n",
            "Epoch 16/100\n",
            "12/12 [==============================] - 2s 197ms/step - loss: 4.7024e-04 - val_loss: 0.0031\n",
            "Epoch 17/100\n",
            "12/12 [==============================] - 2s 196ms/step - loss: 4.4531e-04 - val_loss: 0.0032\n",
            "Epoch 18/100\n",
            "12/12 [==============================] - 2s 196ms/step - loss: 4.6748e-04 - val_loss: 0.0041\n",
            "Epoch 19/100\n",
            "12/12 [==============================] - 2s 197ms/step - loss: 4.9965e-04 - val_loss: 0.0047\n",
            "Epoch 20/100\n",
            "12/12 [==============================] - 2s 198ms/step - loss: 4.9916e-04 - val_loss: 0.0039\n",
            "Epoch 21/100\n",
            "12/12 [==============================] - 2s 200ms/step - loss: 4.6325e-04 - val_loss: 0.0030\n",
            "Epoch 22/100\n",
            "12/12 [==============================] - 2s 197ms/step - loss: 4.3676e-04 - val_loss: 0.0024\n",
            "Epoch 23/100\n",
            "12/12 [==============================] - 2s 200ms/step - loss: 4.1687e-04 - val_loss: 0.0028\n",
            "Epoch 24/100\n",
            "12/12 [==============================] - 3s 292ms/step - loss: 4.6425e-04 - val_loss: 0.0026\n",
            "Epoch 25/100\n",
            "12/12 [==============================] - 2s 197ms/step - loss: 4.0028e-04 - val_loss: 0.0029\n",
            "Epoch 26/100\n",
            "12/12 [==============================] - 2s 197ms/step - loss: 4.0032e-04 - val_loss: 0.0024\n",
            "Epoch 27/100\n",
            "12/12 [==============================] - 2s 199ms/step - loss: 4.0266e-04 - val_loss: 0.0025\n",
            "Epoch 28/100\n",
            "12/12 [==============================] - 2s 200ms/step - loss: 3.8138e-04 - val_loss: 0.0022\n",
            "Epoch 29/100\n",
            "12/12 [==============================] - 2s 197ms/step - loss: 3.7365e-04 - val_loss: 0.0028\n",
            "Epoch 30/100\n",
            "12/12 [==============================] - 2s 197ms/step - loss: 4.1247e-04 - val_loss: 0.0022\n",
            "Epoch 31/100\n",
            "12/12 [==============================] - 2s 197ms/step - loss: 3.9061e-04 - val_loss: 0.0021\n",
            "Epoch 32/100\n",
            "12/12 [==============================] - 2s 198ms/step - loss: 3.5251e-04 - val_loss: 0.0022\n",
            "Epoch 33/100\n",
            "12/12 [==============================] - 2s 199ms/step - loss: 3.5332e-04 - val_loss: 0.0022\n",
            "Epoch 34/100\n",
            "12/12 [==============================] - 2s 199ms/step - loss: 3.4636e-04 - val_loss: 0.0020\n",
            "Epoch 35/100\n",
            "12/12 [==============================] - 2s 197ms/step - loss: 3.4155e-04 - val_loss: 0.0020\n",
            "Epoch 36/100\n",
            "12/12 [==============================] - 2s 197ms/step - loss: 3.5398e-04 - val_loss: 0.0024\n",
            "Epoch 37/100\n",
            "12/12 [==============================] - 3s 301ms/step - loss: 3.3764e-04 - val_loss: 0.0020\n",
            "Epoch 38/100\n",
            "12/12 [==============================] - 2s 198ms/step - loss: 3.3737e-04 - val_loss: 0.0020\n",
            "Epoch 39/100\n",
            "12/12 [==============================] - 2s 197ms/step - loss: 3.4594e-04 - val_loss: 0.0022\n",
            "Epoch 40/100\n",
            "12/12 [==============================] - 2s 196ms/step - loss: 3.2229e-04 - val_loss: 0.0024\n",
            "Epoch 41/100\n",
            "12/12 [==============================] - 2s 195ms/step - loss: 3.3559e-04 - val_loss: 0.0018\n",
            "Epoch 42/100\n",
            "12/12 [==============================] - 2s 195ms/step - loss: 4.0937e-04 - val_loss: 0.0031\n",
            "Epoch 43/100\n",
            "12/12 [==============================] - 2s 195ms/step - loss: 3.7192e-04 - val_loss: 0.0022\n",
            "Epoch 44/100\n",
            "12/12 [==============================] - 2s 196ms/step - loss: 3.3763e-04 - val_loss: 0.0018\n",
            "Epoch 45/100\n",
            "12/12 [==============================] - 2s 199ms/step - loss: 3.0724e-04 - val_loss: 0.0023\n",
            "Epoch 46/100\n",
            "12/12 [==============================] - 2s 201ms/step - loss: 2.9359e-04 - val_loss: 0.0017\n",
            "Epoch 47/100\n",
            "12/12 [==============================] - 2s 199ms/step - loss: 2.8927e-04 - val_loss: 0.0018\n",
            "Epoch 48/100\n",
            "12/12 [==============================] - 2s 197ms/step - loss: 2.8314e-04 - val_loss: 0.0021\n",
            "Epoch 49/100\n",
            "12/12 [==============================] - 2s 197ms/step - loss: 2.9690e-04 - val_loss: 0.0018\n",
            "Epoch 50/100\n",
            "12/12 [==============================] - 2s 194ms/step - loss: 2.7688e-04 - val_loss: 0.0018\n",
            "Epoch 51/100\n",
            "12/12 [==============================] - 2s 196ms/step - loss: 2.9028e-04 - val_loss: 0.0018\n",
            "Epoch 52/100\n",
            "12/12 [==============================] - 2s 198ms/step - loss: 2.6816e-04 - val_loss: 0.0017\n",
            "Epoch 53/100\n",
            "12/12 [==============================] - 2s 199ms/step - loss: 2.6858e-04 - val_loss: 0.0015\n",
            "Epoch 54/100\n",
            "12/12 [==============================] - 2s 197ms/step - loss: 2.7691e-04 - val_loss: 0.0016\n",
            "Epoch 55/100\n",
            "12/12 [==============================] - 2s 197ms/step - loss: 2.7277e-04 - val_loss: 0.0020\n",
            "Epoch 56/100\n",
            "12/12 [==============================] - 2s 200ms/step - loss: 2.5848e-04 - val_loss: 0.0016\n",
            "Epoch 57/100\n",
            "12/12 [==============================] - 2s 196ms/step - loss: 2.8472e-04 - val_loss: 0.0023\n",
            "Epoch 58/100\n",
            "12/12 [==============================] - 2s 200ms/step - loss: 2.7989e-04 - val_loss: 0.0014\n",
            "Epoch 59/100\n",
            "12/12 [==============================] - 2s 197ms/step - loss: 2.7369e-04 - val_loss: 0.0027\n",
            "Epoch 60/100\n",
            "12/12 [==============================] - 2s 198ms/step - loss: 2.7620e-04 - val_loss: 0.0014\n",
            "Epoch 61/100\n",
            "12/12 [==============================] - 2s 198ms/step - loss: 2.5643e-04 - val_loss: 0.0015\n",
            "Epoch 62/100\n",
            "12/12 [==============================] - 2s 196ms/step - loss: 2.3658e-04 - val_loss: 0.0015\n",
            "Epoch 63/100\n",
            "12/12 [==============================] - 2s 200ms/step - loss: 2.3930e-04 - val_loss: 0.0015\n",
            "Epoch 64/100\n",
            "12/12 [==============================] - 2s 197ms/step - loss: 2.4915e-04 - val_loss: 0.0013\n",
            "Epoch 65/100\n",
            "12/12 [==============================] - 2s 200ms/step - loss: 2.6278e-04 - val_loss: 0.0015\n",
            "Epoch 66/100\n",
            "12/12 [==============================] - 2s 196ms/step - loss: 2.4186e-04 - val_loss: 0.0015\n",
            "Epoch 67/100\n",
            "12/12 [==============================] - 2s 200ms/step - loss: 2.2869e-04 - val_loss: 0.0012\n",
            "Epoch 68/100\n",
            "12/12 [==============================] - 2s 198ms/step - loss: 2.2774e-04 - val_loss: 0.0014\n",
            "Epoch 69/100\n",
            "12/12 [==============================] - 2s 199ms/step - loss: 2.2168e-04 - val_loss: 0.0012\n",
            "Epoch 70/100\n",
            "12/12 [==============================] - 2s 198ms/step - loss: 2.2034e-04 - val_loss: 0.0013\n",
            "Epoch 71/100\n",
            "12/12 [==============================] - 2s 198ms/step - loss: 2.2154e-04 - val_loss: 0.0012\n",
            "Epoch 72/100\n",
            "12/12 [==============================] - 2s 200ms/step - loss: 2.4236e-04 - val_loss: 0.0019\n",
            "Epoch 73/100\n",
            "12/12 [==============================] - 3s 229ms/step - loss: 2.2274e-04 - val_loss: 0.0012\n",
            "Epoch 74/100\n",
            "12/12 [==============================] - 3s 253ms/step - loss: 2.0839e-04 - val_loss: 0.0012\n",
            "Epoch 75/100\n",
            "12/12 [==============================] - 2s 198ms/step - loss: 2.1364e-04 - val_loss: 0.0011\n",
            "Epoch 76/100\n",
            "12/12 [==============================] - 2s 198ms/step - loss: 2.0585e-04 - val_loss: 0.0011\n",
            "Epoch 77/100\n",
            "12/12 [==============================] - 2s 198ms/step - loss: 2.0998e-04 - val_loss: 0.0012\n",
            "Epoch 78/100\n",
            "12/12 [==============================] - 2s 203ms/step - loss: 2.0776e-04 - val_loss: 0.0012\n",
            "Epoch 79/100\n",
            "12/12 [==============================] - 2s 197ms/step - loss: 2.3604e-04 - val_loss: 0.0012\n",
            "Epoch 80/100\n",
            "12/12 [==============================] - 2s 199ms/step - loss: 2.1699e-04 - val_loss: 0.0013\n",
            "Epoch 81/100\n",
            "12/12 [==============================] - 2s 199ms/step - loss: 2.0938e-04 - val_loss: 0.0010\n",
            "Epoch 82/100\n",
            "12/12 [==============================] - 2s 199ms/step - loss: 1.9310e-04 - val_loss: 0.0013\n",
            "Epoch 83/100\n",
            "12/12 [==============================] - 2s 201ms/step - loss: 2.0566e-04 - val_loss: 0.0012\n",
            "Epoch 84/100\n",
            "12/12 [==============================] - 2s 195ms/step - loss: 2.0579e-04 - val_loss: 0.0011\n",
            "Epoch 85/100\n",
            "12/12 [==============================] - 2s 199ms/step - loss: 1.9427e-04 - val_loss: 0.0010\n",
            "Epoch 86/100\n",
            "12/12 [==============================] - 2s 199ms/step - loss: 1.8500e-04 - val_loss: 9.8042e-04\n",
            "Epoch 87/100\n",
            "12/12 [==============================] - 2s 200ms/step - loss: 1.8758e-04 - val_loss: 0.0014\n",
            "Epoch 88/100\n",
            "12/12 [==============================] - 2s 197ms/step - loss: 1.8466e-04 - val_loss: 0.0010\n",
            "Epoch 89/100\n",
            "12/12 [==============================] - 2s 197ms/step - loss: 1.7949e-04 - val_loss: 9.4271e-04\n",
            "Epoch 90/100\n",
            "12/12 [==============================] - 2s 200ms/step - loss: 1.7622e-04 - val_loss: 9.3494e-04\n",
            "Epoch 91/100\n",
            "12/12 [==============================] - 2s 199ms/step - loss: 1.8624e-04 - val_loss: 9.1665e-04\n",
            "Epoch 92/100\n",
            "12/12 [==============================] - 2s 200ms/step - loss: 1.8953e-04 - val_loss: 0.0011\n",
            "Epoch 93/100\n",
            "12/12 [==============================] - 2s 198ms/step - loss: 1.8586e-04 - val_loss: 9.8227e-04\n",
            "Epoch 94/100\n",
            "12/12 [==============================] - 2s 198ms/step - loss: 1.7049e-04 - val_loss: 9.2727e-04\n",
            "Epoch 95/100\n",
            "12/12 [==============================] - 2s 196ms/step - loss: 1.8604e-04 - val_loss: 8.8310e-04\n",
            "Epoch 96/100\n",
            "12/12 [==============================] - 2s 203ms/step - loss: 1.7919e-04 - val_loss: 0.0010\n",
            "Epoch 97/100\n",
            "12/12 [==============================] - 2s 198ms/step - loss: 1.6743e-04 - val_loss: 8.6051e-04\n",
            "Epoch 98/100\n",
            "12/12 [==============================] - 2s 199ms/step - loss: 1.6855e-04 - val_loss: 8.9419e-04\n",
            "Epoch 99/100\n",
            "12/12 [==============================] - 2s 199ms/step - loss: 1.6357e-04 - val_loss: 8.8992e-04\n",
            "Epoch 100/100\n",
            "12/12 [==============================] - 2s 199ms/step - loss: 1.7253e-04 - val_loss: 9.7975e-04\n"
          ]
        },
        {
          "output_type": "execute_result",
          "data": {
            "text/plain": [
              "<keras.callbacks.History at 0x7fd688e1ab50>"
            ]
          },
          "metadata": {},
          "execution_count": 23
        }
      ]
    },
    {
      "cell_type": "code",
      "source": [
        "\n",
        "#PLotting loss, it shows that loss has decreased significantly and model trained well\n",
        "loss = model.history.history['loss']\n",
        "plt.plot(loss)"
      ],
      "metadata": {
        "colab": {
          "base_uri": "https://localhost:8080/",
          "height": 282
        },
        "id": "rw4ayxrwrOqU",
        "outputId": "f7bf8a53-d596-4879-f1c0-38cedd395950"
      },
      "execution_count": null,
      "outputs": [
        {
          "output_type": "execute_result",
          "data": {
            "text/plain": [
              "[<matplotlib.lines.Line2D at 0x7fd688eac390>]"
            ]
          },
          "metadata": {},
          "execution_count": 24
        },
        {
          "output_type": "display_data",
          "data": {
            "text/plain": [
              "<Figure size 432x288 with 1 Axes>"
            ],
            "image/png": "[encoded data removed]"
          },
          "metadata": {
            "needs_background": "light"
          }
        }
      ]
    },
    {
      "cell_type": "code",
      "source": [
        "#Predicitng on train and test data\n",
        "train_predict = model.predict(X_train)\n",
        "test_predict = model.predict(X_test)\n",
        "\n",
        "#Inverse transform to get actual value\n",
        "train_predict = normalizer.inverse_transform(train_predict)\n",
        "test_predict = normalizer.inverse_transform(test_predict)\n",
        "\n"
      ],
      "metadata": {
        "id": "-SsZMxq-sQg2"
      },
      "execution_count": null,
      "outputs": []
    },
    {
      "cell_type": "code",
      "source": [
        "#Comparing using visuals\n",
        "plt.plot(normalizer.inverse_transform(ds_scaled))\n",
        "plt.plot(train_predict)\n",
        "plt.plot(test_predict)"
      ],
      "metadata": {
        "colab": {
          "base_uri": "https://localhost:8080/",
          "height": 282
        },
        "id": "Ygc-BmnPsW6V",
        "outputId": "b9d94e0e-5ce3-4d59-9ec6-3944fde88cdb"
      },
      "execution_count": null,
      "outputs": [
        {
          "output_type": "execute_result",
          "data": {
            "text/plain": [
              "[<matplotlib.lines.Line2D at 0x7fd688ad32d0>]"
            ]
          },
          "metadata": {},
          "execution_count": 26
        },
        {
          "output_type": "display_data",
          "data": {
            "text/plain": [
              "<Figure size 432x288 with 1 Axes>"
            ],
            "image/png": "[encoded data removed]"
          },
          "metadata": {
            "needs_background": "light"
          }
        }
      ]
    },
    {
      "cell_type": "code",
      "source": [
        "type(train_predict)\n",
        "test = np.vstack((train_predict,test_predict))\n",
        "\n",
        "#Combining the predited data to create uniform data visualization\n",
        "plt.plot(normalizer.inverse_transform(ds_scaled))\n",
        "plt.plot(test)"
      ],
      "metadata": {
        "colab": {
          "base_uri": "https://localhost:8080/",
          "height": 282
        },
        "id": "SHPFbTYMsZIE",
        "outputId": "adc6ab62-db91-4915-88a5-23890fd804fe"
      },
      "execution_count": null,
      "outputs": [
        {
          "output_type": "execute_result",
          "data": {
            "text/plain": [
              "[<matplotlib.lines.Line2D at 0x7fd688a7ff50>]"
            ]
          },
          "metadata": {},
          "execution_count": 27
        },
        {
          "output_type": "display_data",
          "data": {
            "text/plain": [
              "<Figure size 432x288 with 1 Axes>"
            ],
            "image/png": "[encoded data removed]"
          },
          "metadata": {
            "needs_background": "light"
          }
        }
      ]
    },
    {
      "cell_type": "code",
      "source": [
        "#Getting the last 100 days records\n",
        "fut_inp = ds_test[270:]\n",
        "fut_inp = fut_inp.reshape(1,-1)\n",
        "\n",
        "tmp_inp = list(fut_inp)\n",
        "#Creating list of the last 100 data\n",
        "tmp_inp = tmp_inp[0].tolist()"
      ],
      "metadata": {
        "id": "FxuKr097smxk"
      },
      "execution_count": null,
      "outputs": []
    },
    {
      "cell_type": "code",
      "source": [
        "#Predicting next 30 days price suing the current data\n",
        "#It will predict in sliding window manner (algorithm) with stride 1\n",
        "lst_output=[]\n",
        "n_steps=100\n",
        "i=0\n",
        "while(i<30):\n",
        "    \n",
        "    if(len(tmp_inp)>100):\n",
        "        fut_inp = np.array(tmp_inp[1:])\n",
        "        fut_inp=fut_inp.reshape(1,-1)\n",
        "        fut_inp = fut_inp.reshape((1, n_steps, 1))\n",
        "        yhat = model.predict(fut_inp, verbose=0)\n",
        "        tmp_inp.extend(yhat[0].tolist())\n",
        "        tmp_inp = tmp_inp[1:]\n",
        "        lst_output.extend(yhat.tolist())\n",
        "        i=i+1\n",
        "    else:\n",
        "        fut_inp = fut_inp.reshape((1, n_steps,1))\n",
        "        yhat = model.predict(fut_inp, verbose=0)\n",
        "        tmp_inp.extend(yhat[0].tolist())\n",
        "        lst_output.extend(yhat.tolist())\n",
        "        i=i+1\n",
        "    \n",
        "\n",
        "print(lst_output)"
      ],
      "metadata": {
        "colab": {
          "base_uri": "https://localhost:8080/"
        },
        "id": "UcJR351mtNek",
        "outputId": "61916815-0e19-403a-a017-a067a4b9c70b"
      },
      "execution_count": null,
      "outputs": [
        {
          "output_type": "stream",
          "name": "stdout",
          "text": [
            "[[0.4944150447845459], [0.4902395009994507], [0.48605114221572876], [0.48184800148010254], [0.47763028740882874], [0.4733986556529999], [0.46915510296821594], [0.46490150690078735], [0.46064019203186035], [0.45637333393096924], [0.4521023631095886], [0.4478285610675812], [0.4435526430606842], [0.439275324344635], [0.43499594926834106], [0.43071457743644714], [0.4264306128025055], [0.4221435785293579], [0.41785308718681335], [0.4135586619377136], [0.40925997495651245], [0.4049569070339203], [0.4006495475769043], [0.3963381350040436], [0.3920227587223053], [0.38770395517349243], [0.38338202238082886], [0.379057377576828], [0.3747307360172272], [0.37040218710899353]]\n"
          ]
        }
      ]
    },
    {
      "cell_type": "code",
      "source": [
        "len(ds_scaled)"
      ],
      "metadata": {
        "colab": {
          "base_uri": "https://localhost:8080/"
        },
        "id": "yUtYsmrJtz4d",
        "outputId": "2e947803-76c2-436d-ce16-8e2a6b335a1e"
      },
      "execution_count": null,
      "outputs": [
        {
          "output_type": "execute_result",
          "data": {
            "text/plain": [
              "1236"
            ]
          },
          "metadata": {},
          "execution_count": 32
        }
      ]
    },
    {
      "cell_type": "code",
      "source": [
        "#Creating a dummy plane to plot graph one after another\n",
        "plot_new=np.arange(1,101)\n",
        "plot_pred=np.arange(101,131)\n",
        "plt.plot(plot_new, normalizer.inverse_transform(ds_scaled[1136:]))\n",
        "plt.plot(plot_pred, normalizer.inverse_transform(lst_output))"
      ],
      "metadata": {
        "colab": {
          "base_uri": "https://localhost:8080/",
          "height": 282
        },
        "id": "y9gQivsutQJU",
        "outputId": "79a3a89c-1ee1-45ce-be17-7dcd97bd0914"
      },
      "execution_count": null,
      "outputs": [
        {
          "output_type": "execute_result",
          "data": {
            "text/plain": [
              "[<matplotlib.lines.Line2D at 0x7fd6889b0650>]"
            ]
          },
          "metadata": {},
          "execution_count": 33
        },
        {
          "output_type": "display_data",
          "data": {
            "text/plain": [
              "<Figure size 432x288 with 1 Axes>"
            ],
            "image/png": "[encoded data removed]"
          },
          "metadata": {
            "needs_background": "light"
          }
        }
      ]
    },
    {
      "cell_type": "code",
      "source": [
        "ds_new = ds_scaled.tolist()\n",
        "\n",
        "len(ds_new)"
      ],
      "metadata": {
        "colab": {
          "base_uri": "https://localhost:8080/"
        },
        "id": "kTghASu-tUnV",
        "outputId": "64113d05-edcd-4e40-af47-667f7a42c4ec"
      },
      "execution_count": null,
      "outputs": [
        {
          "output_type": "execute_result",
          "data": {
            "text/plain": [
              "1236"
            ]
          },
          "metadata": {},
          "execution_count": 34
        }
      ]
    },
    {
      "cell_type": "code",
      "source": [
        "#Entends helps us to fill the missing value with approx value\n",
        "ds_new.extend(lst_output)\n",
        "plt.plot(ds_new[1200:])"
      ],
      "metadata": {
        "colab": {
          "base_uri": "https://localhost:8080/",
          "height": 282
        },
        "id": "tmJH_Kf8uB41",
        "outputId": "6368a1dd-5657-4874-f4b7-d98ddc30b984"
      },
      "execution_count": null,
      "outputs": [
        {
          "output_type": "execute_result",
          "data": {
            "text/plain": [
              "[<matplotlib.lines.Line2D at 0x7fd68868ab90>]"
            ]
          },
          "metadata": {},
          "execution_count": 35
        },
        {
          "output_type": "display_data",
          "data": {
            "text/plain": [
              "<Figure size 432x288 with 1 Axes>"
            ],
            "image/png": "[encoded data removed]"
          },
          "metadata": {
            "needs_background": "light"
          }
        }
      ]
    },
    {
      "cell_type": "code",
      "source": [
        "#Creating final data for plotting\n",
        "final_graph = normalizer.inverse_transform(ds_new).tolist()\n",
        "\n",
        "#Plotting final results with predicted value after 30 Days\n",
        "plt.plot(final_graph,)\n",
        "plt.ylabel(\"Price\")\n",
        "plt.xlabel(\"Time\")\n",
        "plt.title(\"{0} prediction of next month open\".format(stock_symbol))\n",
        "plt.axhline(y=final_graph[len(final_graph)-1], color = 'red', linestyle = ':', label = 'NEXT 30D: {0}'.format(round(float(*final_graph[len(final_graph)-1]),2)))\n",
        "plt.legend()"
      ],
      "metadata": {
        "colab": {
          "base_uri": "https://localhost:8080/",
          "height": 312
        },
        "id": "UQywE6U3uD31",
        "outputId": "036e3dff-cc0d-4d06-9ce0-9d56354af8af"
      },
      "execution_count": null,
      "outputs": [
        {
          "output_type": "execute_result",
          "data": {
            "text/plain": [
              "<matplotlib.legend.Legend at 0x7fd688995290>"
            ]
          },
          "metadata": {},
          "execution_count": 36
        },
        {
          "output_type": "display_data",
          "data": {
            "text/plain": [
              "<Figure size 432x288 with 1 Axes>"
            ],
            "image/png": "[encoded data removed]"
          },
          "metadata": {
            "needs_background": "light"
          }
        }
      ]
    },
    {
      "cell_type": "code",
      "source": [],
      "metadata": {
        "id": "Du496dsOuLZV"
      },
      "execution_count": null,
      "outputs": []
    }
  ]
}